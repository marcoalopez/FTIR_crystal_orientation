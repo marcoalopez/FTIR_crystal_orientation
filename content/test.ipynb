{
 "cells": [
  {
   "cell_type": "markdown",
   "id": "7f1ee169",
   "metadata": {},
   "source": [
    "# just a test"
   ]
  },
  {
   "cell_type": "code",
   "execution_count": 1,
   "id": "ce614a06",
   "metadata": {},
   "outputs": [
    {
     "data": {
      "text/plain": [
       "25"
      ]
     },
     "execution_count": 1,
     "metadata": {},
     "output_type": "execute_result"
    }
   ],
   "source": [
    "a = 5\n",
    "\n",
    "a**2"
   ]
  },
  {
   "cell_type": "code",
   "execution_count": 2,
   "id": "a6e0f48c",
   "metadata": {},
   "outputs": [],
   "source": [
    "import dummy"
   ]
  },
  {
   "cell_type": "code",
   "execution_count": 3,
   "id": "010dc700",
   "metadata": {},
   "outputs": [
    {
     "data": {
      "text/plain": [
       "'I am dummy1 function'"
      ]
     },
     "execution_count": 3,
     "metadata": {},
     "output_type": "execute_result"
    }
   ],
   "source": [
    "dummy.dummy1()"
   ]
  },
  {
   "cell_type": "code",
   "execution_count": 4,
   "id": "282b11e5",
   "metadata": {},
   "outputs": [
    {
     "data": {
      "text/plain": [
       "array([ 1.,  8., 27.])"
      ]
     },
     "execution_count": 4,
     "metadata": {},
     "output_type": "execute_result"
    }
   ],
   "source": [
    "dummy.dummy2_cube()"
   ]
  },
  {
   "cell_type": "code",
   "execution_count": null,
   "id": "49abfcdb",
   "metadata": {},
   "outputs": [],
   "source": []
  }
 ],
 "metadata": {
  "kernelspec": {
   "display_name": "main",
   "language": "python",
   "name": "python3"
  },
  "language_info": {
   "codemirror_mode": {
    "name": "ipython",
    "version": 3
   },
   "file_extension": ".py",
   "mimetype": "text/x-python",
   "name": "python",
   "nbconvert_exporter": "python",
   "pygments_lexer": "ipython3",
   "version": "3.13.2"
  }
 },
 "nbformat": 4,
 "nbformat_minor": 5
}
